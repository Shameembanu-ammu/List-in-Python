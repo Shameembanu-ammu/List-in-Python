{
  "nbformat": 4,
  "nbformat_minor": 0,
  "metadata": {
    "colab": {
      "provenance": []
    },
    "kernelspec": {
      "name": "python3",
      "display_name": "Python 3"
    },
    "language_info": {
      "name": "python"
    }
  },
  "cells": [
    {
      "cell_type": "code",
      "source": [
        "#Accessing item in in list\n",
        "thislist=['chappati','poori','dosa','idly','vada']\n",
        "print(thislist[0])\n",
        "print(thislist[3])\n"
      ],
      "metadata": {
        "colab": {
          "base_uri": "https://localhost:8080/"
        },
        "id": "cKaquZH4cseO",
        "outputId": "40f0dbfe-577b-457f-e6ea-6d3742105c62"
      },
      "execution_count": null,
      "outputs": [
        {
          "output_type": "stream",
          "name": "stdout",
          "text": [
            "chappati\n",
            "idly\n"
          ]
        }
      ]
    },
    {
      "cell_type": "code",
      "source": [
        "#slicing(positive)\n",
        "thislist=['chappati','poori','dosa','idly','vada']\n",
        "print(thislist[1:2])\n",
        "print(thislist[:3])\n",
        "print(thislist[1:])\n",
        "print(thislist[0:4])"
      ],
      "metadata": {
        "colab": {
          "base_uri": "https://localhost:8080/"
        },
        "id": "ClKtZmAzdqOC",
        "outputId": "ee361cdf-b4eb-4673-f8c6-b6f355c9dcf4"
      },
      "execution_count": null,
      "outputs": [
        {
          "output_type": "stream",
          "name": "stdout",
          "text": [
            "['poori']\n",
            "['chappati', 'poori', 'dosa']\n",
            "['poori', 'dosa', 'idly', 'vada']\n",
            "['chappati', 'poori', 'dosa', 'idly']\n"
          ]
        }
      ]
    },
    {
      "cell_type": "code",
      "source": [
        "#slicing(negative)\n",
        "thislist=['chappati','poori','dosa','idly','vada']\n",
        "print(thislist[-4:-3])\n",
        "print(thislist[:-3])\n",
        "print(thislist[-1:])\n",
        "print(thislist[:-4])"
      ],
      "metadata": {
        "colab": {
          "base_uri": "https://localhost:8080/"
        },
        "id": "qJvpWxG2eDGs",
        "outputId": "4ef6c460-6925-4393-f74a-23b87c0f2227"
      },
      "execution_count": null,
      "outputs": [
        {
          "output_type": "stream",
          "name": "stdout",
          "text": [
            "['poori']\n",
            "['chappati', 'poori']\n",
            "['vada']\n",
            "['chappati']\n"
          ]
        }
      ]
    },
    {
      "cell_type": "code",
      "source": [
        "#check item using in\n",
        "thislist=['chappati','poori','dosa','idly','vada']\n",
        "if \"poori\" in thislist:\n",
        "  print(\"true\")\n",
        "else:\n",
        "  print(\"false\")"
      ],
      "metadata": {
        "colab": {
          "base_uri": "https://localhost:8080/"
        },
        "id": "-Ex0MdK7ezan",
        "outputId": "d47928cc-29be-454a-cd2f-329f0469b9ae"
      },
      "execution_count": null,
      "outputs": [
        {
          "output_type": "stream",
          "name": "stdout",
          "text": [
            "true\n"
          ]
        }
      ]
    },
    {
      "cell_type": "code",
      "source": [
        "#changing item using in\n",
        "thislist=['chappati','poori','dosa','idly','vada']\n",
        "print(thislist)\n",
        "thislist[1:4]=\"\"\n",
        "print(thislist[1:4])\n",
        "thislist[:2]=[\"payasam\",\"vada\"]\n",
        "#print(thislist[:2])\n"
      ],
      "metadata": {
        "colab": {
          "base_uri": "https://localhost:8080/"
        },
        "id": "zi3KQ4hWfneB",
        "outputId": "b2a4d7b8-0339-425f-f1a4-d717ff5e4e74"
      },
      "execution_count": null,
      "outputs": [
        {
          "output_type": "stream",
          "name": "stdout",
          "text": [
            "['chappati', 'poori', 'dosa', 'idly', 'vada']\n",
            "['vada']\n"
          ]
        }
      ]
    },
    {
      "cell_type": "code",
      "source": [
        "#changing item using in\n",
        "thislist=['chappati','poori','dosa','idly','vada']\n",
        "for i in thislist:\n",
        "  print(i)\n",
        "for j in range(len(thislist)):\n",
        "  print(thislist)\n",
        "  print(thislist[j])\n"
      ],
      "metadata": {
        "colab": {
          "base_uri": "https://localhost:8080/"
        },
        "id": "7kCl7byvh6F0",
        "outputId": "834f9005-56d4-4aae-e438-336e4f590062"
      },
      "execution_count": null,
      "outputs": [
        {
          "output_type": "stream",
          "name": "stdout",
          "text": [
            "chappati\n",
            "poori\n",
            "dosa\n",
            "idly\n",
            "vada\n",
            "['chappati', 'poori', 'dosa', 'idly', 'vada']\n",
            "chappati\n",
            "['chappati', 'poori', 'dosa', 'idly', 'vada']\n",
            "poori\n",
            "['chappati', 'poori', 'dosa', 'idly', 'vada']\n",
            "dosa\n",
            "['chappati', 'poori', 'dosa', 'idly', 'vada']\n",
            "idly\n",
            "['chappati', 'poori', 'dosa', 'idly', 'vada']\n",
            "vada\n"
          ]
        }
      ]
    },
    {
      "cell_type": "code",
      "source": [
        "#changing item using in positive index\n",
        "thislist=['chappati','poori','dosa','idly','vada']\n",
        "print(thislist)\n",
        "print(thislist[1:4])\n",
        "print(thislist[:4])\n",
        "print(thislist[4:])\n",
        "print(thislist[:2])\n",
        "print(thislist[2:])\n",
        "print(thislist[1:])\n",
        "print(thislist[:1])\n",
        "print(thislist[2:4])\n",
        "print(thislist[2:3])\n",
        "\n",
        "\n",
        "\n"
      ],
      "metadata": {
        "colab": {
          "base_uri": "https://localhost:8080/"
        },
        "id": "ikVe69pa50w1",
        "outputId": "eecaf0b3-6e8b-40ca-a959-4948920f6e34"
      },
      "execution_count": null,
      "outputs": [
        {
          "output_type": "stream",
          "name": "stdout",
          "text": [
            "['chappati', 'poori', 'dosa', 'idly', 'vada']\n",
            "['poori', 'dosa', 'idly']\n",
            "['chappati', 'poori', 'dosa', 'idly']\n",
            "['vada']\n",
            "['chappati', 'poori']\n",
            "['dosa', 'idly', 'vada']\n",
            "['poori', 'dosa', 'idly', 'vada']\n",
            "['chappati']\n",
            "['dosa', 'idly']\n",
            "['dosa']\n"
          ]
        }
      ]
    },
    {
      "cell_type": "code",
      "source": [
        "#changing item using in negative index\n",
        "\n",
        "thislist=['chappati','poori','dosa','idly','vada']\n",
        "print(thislist)\n",
        "print(thislist[-4:-1])\n",
        "print(thislist[:-4])\n",
        "print(thislist[-4:])\n",
        "print(thislist[:-2])\n",
        "print(thislist[-2:])\n",
        "print(thislist[-1:])\n",
        "print(thislist[:-1])\n",
        "print(thislist[-4:-2])\n",
        "print(thislist[-3:-1])\n",
        "\n",
        "\n"
      ],
      "metadata": {
        "colab": {
          "base_uri": "https://localhost:8080/"
        },
        "id": "AVNT1aWO7XRK",
        "outputId": "0e45255f-04a1-40a5-d178-729e7464a1ab"
      },
      "execution_count": null,
      "outputs": [
        {
          "output_type": "stream",
          "name": "stdout",
          "text": [
            "['chappati', 'poori', 'dosa', 'idly', 'vada']\n",
            "['poori', 'dosa', 'idly']\n",
            "['chappati']\n",
            "['poori', 'dosa', 'idly', 'vada']\n",
            "['chappati', 'poori', 'dosa']\n",
            "['idly', 'vada']\n",
            "['vada']\n",
            "['chappati', 'poori', 'dosa', 'idly']\n",
            "['poori', 'dosa']\n",
            "['dosa', 'idly']\n"
          ]
        }
      ]
    },
    {
      "cell_type": "code",
      "source": [
        "#Using two for loop in list\n",
        "\n",
        "thislist=['chappati','poori','dosa','idly','vada']\n",
        "for i in thislist:\n",
        "  print(i)\n",
        "for j in range(len(thislist)):\n",
        "  print(thislist)\n",
        "  print(j)\n",
        "  print(thislist)\n",
        "\n"
      ],
      "metadata": {
        "colab": {
          "base_uri": "https://localhost:8080/"
        },
        "id": "cCDcMRk329n-",
        "outputId": "99b7d9fc-d8f0-4a0f-accb-c3eaa09468f0"
      },
      "execution_count": 3,
      "outputs": [
        {
          "output_type": "stream",
          "name": "stdout",
          "text": [
            "chappati\n",
            "poori\n",
            "dosa\n",
            "idly\n",
            "vada\n",
            "['chappati', 'poori', 'dosa', 'idly', 'vada']\n",
            "0\n",
            "['chappati', 'poori', 'dosa', 'idly', 'vada']\n",
            "['chappati', 'poori', 'dosa', 'idly', 'vada']\n",
            "1\n",
            "['chappati', 'poori', 'dosa', 'idly', 'vada']\n",
            "['chappati', 'poori', 'dosa', 'idly', 'vada']\n",
            "2\n",
            "['chappati', 'poori', 'dosa', 'idly', 'vada']\n",
            "['chappati', 'poori', 'dosa', 'idly', 'vada']\n",
            "3\n",
            "['chappati', 'poori', 'dosa', 'idly', 'vada']\n",
            "['chappati', 'poori', 'dosa', 'idly', 'vada']\n",
            "4\n",
            "['chappati', 'poori', 'dosa', 'idly', 'vada']\n"
          ]
        }
      ]
    },
    {
      "cell_type": "code",
      "source": [
        "#Reducing long coding into short\n",
        "thislist=['chappati','poori','dosa','idly','vada']\n",
        "nl=[[i for i in thislist]]\n",
        "print(nl)"
      ],
      "metadata": {
        "colab": {
          "base_uri": "https://localhost:8080/"
        },
        "id": "ls8i-6Mb41ze",
        "outputId": "cf41326d-c5aa-4353-80bf-df93272e2bf0"
      },
      "execution_count": 4,
      "outputs": [
        {
          "output_type": "stream",
          "name": "stdout",
          "text": [
            "[['chappati', 'poori', 'dosa', 'idly', 'vada']]\n"
          ]
        }
      ]
    },
    {
      "cell_type": "code",
      "source": [
        "#Sorting in list\n",
        "thislist=[4,5,2,8,1,]\n",
        "thislist.sort()\n",
        "print(thislist)"
      ],
      "metadata": {
        "colab": {
          "base_uri": "https://localhost:8080/"
        },
        "id": "A67stc4J6FTu",
        "outputId": "c3e94352-23cc-4484-b4f0-66830d917a01"
      },
      "execution_count": 6,
      "outputs": [
        {
          "output_type": "stream",
          "name": "stdout",
          "text": [
            "[1, 2, 4, 5, 8]\n"
          ]
        }
      ]
    },
    {
      "cell_type": "code",
      "source": [
        "#Reducing long coding into short\n",
        "thislist=['chappati','poori','dosa','idly','vada']\n",
        "newlist=[]\n",
        "for x in thislist:\n",
        "  if 'a' in x:\n",
        "    newlist.append(x)\n",
        "print(newlist)\n",
        "\n",
        "#Sinmlpied form\n",
        "thislist=['chappati','poori','dosa','idly','vada']\n",
        "newlist=[x for x in thislist if 'a' in x]\n",
        "print(newlist)\n",
        "\n"
      ],
      "metadata": {
        "colab": {
          "base_uri": "https://localhost:8080/"
        },
        "id": "2_pTFGNi6t_R",
        "outputId": "7bc04e57-fb37-47e2-e526-df8b1f1552a6"
      },
      "execution_count": 9,
      "outputs": [
        {
          "output_type": "stream",
          "name": "stdout",
          "text": [
            "['chappati', 'dosa', 'vada']\n",
            "['chappati', 'dosa', 'vada']\n"
          ]
        }
      ]
    },
    {
      "cell_type": "code",
      "source": [
        "#Using upper() in for loop(list)\n",
        "thislist=['chappati','poori','dosa','idly','vada']\n",
        "nl=[i.upper() for i in thislist]\n",
        "print(nl)"
      ],
      "metadata": {
        "colab": {
          "base_uri": "https://localhost:8080/"
        },
        "id": "TN3yTfl-9shJ",
        "outputId": "f7eda68e-1f98-4a57-c959-4f60f5db170c"
      },
      "execution_count": 10,
      "outputs": [
        {
          "output_type": "stream",
          "name": "stdout",
          "text": [
            "['CHAPPATI', 'POORI', 'DOSA', 'IDLY', 'VADA']\n"
          ]
        }
      ]
    },
    {
      "cell_type": "code",
      "source": [
        "#Finding chars using for loop in (list)\n",
        "thislist=['chappati','poori','dosa','idly','vada']\n",
        "nl=[i for i in thislist if \"o\" in i]\n",
        "print(nl)"
      ],
      "metadata": {
        "colab": {
          "base_uri": "https://localhost:8080/"
        },
        "id": "BMqWdCw6-kht",
        "outputId": "d18dea3a-82d6-4b6a-d1df-e62968cd83d5"
      },
      "execution_count": 13,
      "outputs": [
        {
          "output_type": "stream",
          "name": "stdout",
          "text": [
            "['poori', 'dosa']\n"
          ]
        }
      ]
    },
    {
      "cell_type": "code",
      "source": [
        "#Sorting\n",
        "thislist=['chappati','poori','dosa','idly','vada']\n",
        "thislist.sort()\n",
        "print(thislist)\n"
      ],
      "metadata": {
        "colab": {
          "base_uri": "https://localhost:8080/"
        },
        "id": "zwomjl7w_H0h",
        "outputId": "a82ecab6-7538-436f-b003-17f9a9388a6e"
      },
      "execution_count": 15,
      "outputs": [
        {
          "output_type": "stream",
          "name": "stdout",
          "text": [
            "['chappati', 'dosa', 'idly', 'poori', 'vada']\n"
          ]
        }
      ]
    },
    {
      "cell_type": "code",
      "source": [
        "#Sorting string using lower() in list\n",
        "thislist=['chappati','poori','dosa','idly','vada']\n",
        "thislist.sort(key=str.lower)\n",
        "print(thislist)\n"
      ],
      "metadata": {
        "colab": {
          "base_uri": "https://localhost:8080/"
        },
        "id": "TccU0yIL_hPK",
        "outputId": "90314801-9245-419b-db91-74249888927b"
      },
      "execution_count": 16,
      "outputs": [
        {
          "output_type": "stream",
          "name": "stdout",
          "text": [
            "['chappati', 'dosa', 'idly', 'poori', 'vada']\n"
          ]
        }
      ]
    },
    {
      "cell_type": "code",
      "source": [
        "#Sorting string using upper() in list\n",
        "thislist=['chappati','poori','dosa','idly','vada']\n",
        "thislist.sort(key=str.upper)\n",
        "print(thislist)\n"
      ],
      "metadata": {
        "colab": {
          "base_uri": "https://localhost:8080/"
        },
        "id": "-Y067mdK_4De",
        "outputId": "2bcba8f8-28c5-4152-abb1-0da09eee60b6"
      },
      "execution_count": 17,
      "outputs": [
        {
          "output_type": "stream",
          "name": "stdout",
          "text": [
            "['chappati', 'dosa', 'idly', 'poori', 'vada']\n"
          ]
        }
      ]
    },
    {
      "cell_type": "code",
      "source": [
        "#Copylist method1\n",
        "thislist=['chappati','poori','dosa','idly','vada']\n",
        "secondlist=thislist.copy()\n",
        "print(thislist)\n",
        "print(secondlist)\n",
        "\n"
      ],
      "metadata": {
        "colab": {
          "base_uri": "https://localhost:8080/"
        },
        "id": "RTUe7bfEAEDm",
        "outputId": "9ef55952-e165-4ca8-8155-a0eda8b110e3"
      },
      "execution_count": 19,
      "outputs": [
        {
          "output_type": "stream",
          "name": "stdout",
          "text": [
            "['chappati', 'poori', 'dosa', 'idly', 'vada']\n",
            "['chappati', 'poori', 'dosa', 'idly', 'vada']\n"
          ]
        }
      ]
    },
    {
      "cell_type": "code",
      "source": [
        "#Copylist method2\n",
        "thislist=['chappati','poori','dosa','idly','vada']\n",
        "secondlist=thislist\n",
        "print(thislist)\n",
        "print(secondlist)\n"
      ],
      "metadata": {
        "colab": {
          "base_uri": "https://localhost:8080/"
        },
        "id": "BcMDuY6OAh7G",
        "outputId": "bf4588fc-8cf2-4599-be8f-fd4faeee176f"
      },
      "execution_count": 20,
      "outputs": [
        {
          "output_type": "stream",
          "name": "stdout",
          "text": [
            "['chappati', 'poori', 'dosa', 'idly', 'vada']\n",
            "['chappati', 'poori', 'dosa', 'idly', 'vada']\n"
          ]
        }
      ]
    },
    {
      "cell_type": "code",
      "source": [
        "#Concatenation\n",
        "thislist=['chappati','poori','dosa','idly','vada']\n",
        "secondlist=[\"rice\",\"dhal\"]\n",
        "print(secondlist+thislist)\n"
      ],
      "metadata": {
        "colab": {
          "base_uri": "https://localhost:8080/"
        },
        "id": "Ohr4fsZAAyle",
        "outputId": "733a72f6-530b-4eab-a98c-9ecba84db5c0"
      },
      "execution_count": 21,
      "outputs": [
        {
          "output_type": "stream",
          "name": "stdout",
          "text": [
            "['rice', 'dhal', 'chappati', 'poori', 'dosa', 'idly', 'vada']\n"
          ]
        }
      ]
    },
    {
      "cell_type": "code",
      "source": [
        "#Converting list to tuple\n",
        "thislist=['chappati','poori','dosa','idly','vada']\n",
        "secondlist=thislist\n",
        "\n",
        "secondlist=list(thislist)\n",
        "print(secondlist)\n",
        "secondlist=[\"rice\",\"dhal\"]\n",
        "print(type(secondlist))\n",
        "\n",
        "print(secondlist)\n",
        "secondlist=tuple(thislist)\n",
        "print(secondlist)\n"
      ],
      "metadata": {
        "colab": {
          "base_uri": "https://localhost:8080/"
        },
        "id": "wudwOhGwBO2f",
        "outputId": "3a21c65b-0c8c-4089-f89c-e6e800d4a766"
      },
      "execution_count": 25,
      "outputs": [
        {
          "output_type": "stream",
          "name": "stdout",
          "text": [
            "['chappati', 'poori', 'dosa', 'idly', 'vada']\n",
            "<class 'list'>\n",
            "['rice', 'dhal']\n",
            "('chappati', 'poori', 'dosa', 'idly', 'vada')\n"
          ]
        }
      ]
    }
  ]
}